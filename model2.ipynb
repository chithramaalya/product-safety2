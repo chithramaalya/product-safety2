{
 "cells": [
  {
   "cell_type": "code",
   "execution_count": 4,
   "metadata": {},
   "outputs": [
    {
     "name": "stdout",
     "output_type": "stream",
     "text": [
      "Accuracy for Kid Rating: 0.125\n",
      "Accuracy for Adult Rating: 0.375\n",
      "Accuracy for Gain Weight Rating: 0.5\n",
      "Accuracy for Lose Weight Rating: 0.125\n"
     ]
    }
   ],
   "source": [
    "import pandas as pd\n",
    "from sklearn.ensemble import RandomForestClassifier\n",
    "from sklearn.model_selection import train_test_split\n",
    "from sklearn.metrics import accuracy_score\n",
    "\n",
    "# Load the data from the CSV file\n",
    "data = pd.read_csv(\"testdata.csv\")\n",
    "\n",
    "# Split the data into features and target variable\n",
    "X = data.drop([\"Kid Rating\", \"Adult Rating\", \"Gain Weight Rating\", \"Lose Weight Rating\"], axis=1)\n",
    "y = data[[\"Kid Rating\", \"Adult Rating\", \"Gain Weight Rating\", \"Lose Weight Rating\"]]\n",
    "\n",
    "# Split the data into training and testing sets\n",
    "X_train, X_test, y_train, y_test = train_test_split(X, y, test_size=0.2, random_state=42)\n",
    "\n",
    "# Create a random forest classifier\n",
    "rf = RandomForestClassifier()\n",
    "\n",
    "# Train the model on the training data\n",
    "rf.fit(X_train, y_train)\n",
    "\n",
    "# Make predictions on the testing data\n",
    "y_pred = rf.predict(X_test)\n",
    "\n",
    "# Convert y_pred to a DataFrame\n",
    "y_pred_df = pd.DataFrame(y_pred, columns=y_test.columns)\n",
    "\n",
    "# Calculate accuracy for each column\n",
    "for column in y_test.columns:\n",
    "    accuracy = accuracy_score(y_test[column], y_pred_df[column])\n",
    "    print(f\"Accuracy for {column}: {accuracy}\")\n"
   ]
  }
 ],
 "metadata": {
  "kernelspec": {
   "display_name": "Python 3",
   "language": "python",
   "name": "python3"
  },
  "language_info": {
   "codemirror_mode": {
    "name": "ipython",
    "version": 3
   },
   "file_extension": ".py",
   "mimetype": "text/x-python",
   "name": "python",
   "nbconvert_exporter": "python",
   "pygments_lexer": "ipython3",
   "version": "3.11.4"
  }
 },
 "nbformat": 4,
 "nbformat_minor": 2
}
