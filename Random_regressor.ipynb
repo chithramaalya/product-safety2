{
 "cells": [
  {
   "cell_type": "code",
   "execution_count": 9,
   "metadata": {},
   "outputs": [],
   "source": [
    "import pandas as pd\n",
    "import numpy as np"
   ]
  },
  {
   "cell_type": "code",
   "execution_count": 10,
   "metadata": {},
   "outputs": [],
   "source": [
    "df = pd.read_csv('./new_data.csv')"
   ]
  },
  {
   "cell_type": "code",
   "execution_count": 11,
   "metadata": {},
   "outputs": [
    {
     "data": {
      "text/plain": [
       "Index(['Energy', 'Fat', 'Saturated Fat', 'Carbohydrates', 'Sugars', 'Fiber',\n",
       "       'Proteins', 'Salt', 'Baby Rating', 'Adult Rating', 'Muscle Gainer',\n",
       "       'Weight Loser'],\n",
       "      dtype='object')"
      ]
     },
     "execution_count": 11,
     "metadata": {},
     "output_type": "execute_result"
    }
   ],
   "source": [
    "df.columns"
   ]
  },
  {
   "cell_type": "code",
   "execution_count": 13,
   "metadata": {},
   "outputs": [],
   "source": [
    "df['Energy'] = df['Energy'].astype(float)\n",
    "df['Fat'] = df['Fat'].astype(float)\n",
    "df['Saturated Fat'] = df['Saturated Fat'].astype(float)\n",
    "df['Carbohydrates'] = df['Carbohydrates'].astype(float)\n",
    "df['Sugars'] = df['Sugars'].astype(float)\n",
    "df['Fiber'] = df['Fiber'].astype(float)\n",
    "df['Proteins'] = df['Proteins'].astype(float)\n",
    "df['Salt'] = df['Salt'].astype(float)\n",
    "df['Baby Rating'] = df['Baby Rating'].astype(float)\n",
    "df['Adult Rating'] = df['Adult Rating'].astype(float)\n",
    "df['Muscle Gainer'] = df['Muscle Gainer'].astype(float)\n",
    "df['Weight Loser'] = df['Weight Loser'].astype(float)"
   ]
  },
  {
   "cell_type": "code",
   "execution_count": 25,
   "metadata": {},
   "outputs": [],
   "source": [
    "from sklearn.ensemble import RandomForestRegressor\n",
    "from sklearn.model_selection import train_test_split\n",
    "from sklearn.metrics import mean_squared_error\n",
    "import numpy as np\n",
    "\n",
    "X = df.drop(['Baby Rating', 'Adult Rating', 'Muscle Gainer','Weight Loser'], axis=1)\n",
    "y1 = df['Baby Rating']\n",
    "y2 = df['Adult Rating']\n",
    "y3 = df['Muscle Gainer']\n",
    "y4 = df['Weight Loser']\n",
    "X_train1, X_test1, y_train1, y_test1 = train_test_split(X, y1, test_size=0.2, random_state=42)\n",
    "X_train2, X_test2, y_train2, y_test2 = train_test_split(X, y2, test_size=0.2, random_state=42)\n",
    "X_train3, X_test3, y_train3, y_test3 = train_test_split(X, y3, test_size=0.2, random_state=42)\n",
    "x_train4, x_test4, y_train4, y_test4 = train_test_split(X, y4, test_size=0.2, random_state=42)"
   ]
  },
  {
   "cell_type": "code",
   "execution_count": 26,
   "metadata": {},
   "outputs": [],
   "source": [
    "reg = RandomForestRegressor(n_estimators=100, random_state=42)\n",
    "\n",
    "reg.fit(X_train1, y_train1)\n",
    "\n",
    "y_pred1 = reg.predict(X_test1)"
   ]
  },
  {
   "cell_type": "code",
   "execution_count": 27,
   "metadata": {},
   "outputs": [],
   "source": [
    "reg = RandomForestRegressor(n_estimators=100, random_state=42)\n",
    "\n",
    "reg.fit(X_train2, y_train2)\n",
    "\n",
    "y_pred2 = reg.predict(X_test1)"
   ]
  },
  {
   "cell_type": "code",
   "execution_count": 29,
   "metadata": {},
   "outputs": [],
   "source": [
    "reg = RandomForestRegressor(n_estimators=100, random_state=42)\n",
    "\n",
    "reg.fit(X_train3, y_train3)\n",
    "\n",
    "y_pred3 = reg.predict(X_test3)"
   ]
  },
  {
   "cell_type": "code",
   "execution_count": 32,
   "metadata": {},
   "outputs": [],
   "source": [
    "reg = RandomForestRegressor(n_estimators=100, random_state=42)\n",
    "\n",
    "reg.fit(x_train4, y_train4)\n",
    "\n",
    "y_pred2 = reg.predict(X_test3)"
   ]
  },
  {
   "cell_type": "code",
   "execution_count": 33,
   "metadata": {},
   "outputs": [
    {
     "name": "stdout",
     "output_type": "stream",
     "text": [
      "Training RMSE: 0.6627765412795882\n",
      "Test RMSE: 1.6873598557662424\n",
      "R^2 score: 0.6121737120211361\n"
     ]
    }
   ],
   "source": [
    "# Create a new model with the best parameters\n",
    "\n",
    "from sklearn.metrics import r2_score\n",
    "best_rf = RandomForestRegressor(\n",
    "    bootstrap=True,\n",
    "    max_depth=40,\n",
    "    min_samples_leaf=2,\n",
    "    min_samples_split=2,\n",
    "    n_estimators=100,\n",
    "    random_state=42  # for reproducibility\n",
    ")\n",
    "\n",
    "\n",
    "\n",
    "# Train the model\n",
    "best_rf.fit(X_train1, y_train1)\n",
    "\n",
    "# Make predictions on the training set\n",
    "y_train_pred = best_rf.predict(X_train1)\n",
    "\n",
    "# Make predictions on the test set\n",
    "y_test_pred = best_rf.predict(X_test1)\n",
    "\n",
    "# Calculate the root mean squared error for the training set\n",
    "rmse_train = np.sqrt(mean_squared_error(y_train1, y_train_pred))\n",
    "\n",
    "# Calculate the root mean squared error for the test set\n",
    "rmse_test = np.sqrt(mean_squared_error(y_test1, y_test_pred))\n",
    "\n",
    "print(f'Training RMSE: {rmse_train}')\n",
    "print(f'Test RMSE: {rmse_test}')\n",
    "\n",
    "# Calculate the R^2 score\n",
    "r2 = r2_score(y_test1, y_pred1)\n",
    "\n",
    "# Print the R^2 score\n",
    "print(\"R^2 score:\", r2)"
   ]
  },
  {
   "cell_type": "code",
   "execution_count": 22,
   "metadata": {},
   "outputs": [
    {
     "name": "stderr",
     "output_type": "stream",
     "text": [
      "c:\\Users\\pavan\\AppData\\Local\\Programs\\Python\\Python311\\Lib\\site-packages\\sklearn\\base.py:465: UserWarning: X does not have valid feature names, but RandomForestRegressor was fitted with feature names\n",
      "  warnings.warn(\n"
     ]
    },
    {
     "data": {
      "text/plain": [
       "array([7.20833333])"
      ]
     },
     "execution_count": 22,
     "metadata": {},
     "output_type": "execute_result"
    }
   ],
   "source": [
    "best_rf.predict([[2473,92.52,31.244,172.45,45.21,8.9,103.03,0.2]])"
   ]
  },
  {
   "cell_type": "code",
   "execution_count": 34,
   "metadata": {},
   "outputs": [
    {
     "name": "stdout",
     "output_type": "stream",
     "text": [
      "Training RMSE: 0.4245465599720039\n",
      "Test RMSE: 1.0290854120337973\n",
      "R^2 score: -0.13184445843828718\n"
     ]
    }
   ],
   "source": [
    "#Model 2 for adults\n",
    "\n",
    "# Create a new model with the best parameters\n",
    "\n",
    "from sklearn.metrics import r2_score\n",
    "best_rf = RandomForestRegressor(\n",
    "    bootstrap=True,\n",
    "    max_depth=40,\n",
    "    min_samples_leaf=2,\n",
    "    min_samples_split=2,\n",
    "    n_estimators=100,\n",
    "    random_state=42  # for reproducibility\n",
    ")\n",
    "\n",
    "\n",
    "\n",
    "# Train the model\n",
    "best_rf.fit(X_train2, y_train2)\n",
    "\n",
    "# Make predictions on the training set\n",
    "y_train_pred = best_rf.predict(X_train2)\n",
    "\n",
    "# Make predictions on the test set\n",
    "y_test_pred = best_rf.predict(X_test2)\n",
    "\n",
    "# Calculate the root mean squared error for the training set\n",
    "rmse_train = np.sqrt(mean_squared_error(y_train2, y_train_pred))\n",
    "\n",
    "# Calculate the root mean squared error for the test set\n",
    "rmse_test = np.sqrt(mean_squared_error(y_test2, y_test_pred))\n",
    "\n",
    "print(f'Training RMSE: {rmse_train}')\n",
    "print(f'Test RMSE: {rmse_test}')\n",
    "\n",
    "# Calculate the R^2 score\n",
    "r2 = r2_score(y_test2, y_pred2)\n",
    "\n",
    "# Print the R^2 score\n",
    "print(\"R^2 score:\", r2)"
   ]
  },
  {
   "cell_type": "code",
   "execution_count": 35,
   "metadata": {},
   "outputs": [
    {
     "name": "stderr",
     "output_type": "stream",
     "text": [
      "c:\\Users\\pavan\\AppData\\Local\\Programs\\Python\\Python311\\Lib\\site-packages\\sklearn\\base.py:465: UserWarning: X does not have valid feature names, but RandomForestRegressor was fitted with feature names\n",
      "  warnings.warn(\n"
     ]
    },
    {
     "data": {
      "text/plain": [
       "array([5.99447619])"
      ]
     },
     "execution_count": 35,
     "metadata": {},
     "output_type": "execute_result"
    }
   ],
   "source": [
    "best_rf.predict([[2473,92.52,31.244,172.45,45.21,8.9,103.03,0.2]])"
   ]
  },
  {
   "cell_type": "code",
   "execution_count": null,
   "metadata": {},
   "outputs": [],
   "source": [
    "#Model 3 for \n",
    "\n",
    "# Create a new model with the best parameters\n",
    "\n",
    "from sklearn.metrics import r2_score\n",
    "best_rf = RandomForestRegressor(\n",
    "    bootstrap=True,\n",
    "    max_depth=40,\n",
    "    min_samples_leaf=2,\n",
    "    min_samples_split=2,\n",
    "    n_estimators=100,\n",
    "    random_state=42  # for reproducibility\n",
    ")\n",
    "\n",
    "\n",
    "\n",
    "# Train the model\n",
    "best_rf.fit(X_train2, y_train2)\n",
    "\n",
    "# Make predictions on the training set\n",
    "y_train_pred = best_rf.predict(X_train2)\n",
    "\n",
    "# Make predictions on the test set\n",
    "y_test_pred = best_rf.predict(X_test2)\n",
    "\n",
    "# Calculate the root mean squared error for the training set\n",
    "rmse_train = np.sqrt(mean_squared_error(y_train2, y_train_pred))\n",
    "\n",
    "# Calculate the root mean squared error for the test set\n",
    "rmse_test = np.sqrt(mean_squared_error(y_test2, y_test_pred))\n",
    "\n",
    "print(f'Training RMSE: {rmse_train}')\n",
    "print(f'Test RMSE: {rmse_test}')\n",
    "\n",
    "# Calculate the R^2 score\n",
    "r2 = r2_score(y_test2, y_pred2)\n",
    "\n",
    "# Print the R^2 score\n",
    "print(\"R^2 score:\", r2)"
   ]
  }
 ],
 "metadata": {
  "kernelspec": {
   "display_name": "Python 3",
   "language": "python",
   "name": "python3"
  },
  "language_info": {
   "codemirror_mode": {
    "name": "ipython",
    "version": 3
   },
   "file_extension": ".py",
   "mimetype": "text/x-python",
   "name": "python",
   "nbconvert_exporter": "python",
   "pygments_lexer": "ipython3",
   "version": "3.11.4"
  }
 },
 "nbformat": 4,
 "nbformat_minor": 2
}
