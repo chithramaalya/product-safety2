{
 "cells": [
  {
   "cell_type": "code",
   "execution_count": 97,
   "metadata": {},
   "outputs": [],
   "source": [
    "\n",
    "import io\n",
    "import json\n",
    "import cv2\n",
    "import numpy as np\n",
    "import requests\n",
    "img = cv2.imread(\"images/biscuit.jpg\")\n",
    "height, width, _ = img.shape\n"
   ]
  },
  {
   "cell_type": "code",
   "execution_count": 98,
   "metadata": {},
   "outputs": [],
   "source": [
    "# Cutting image\n",
    "roi = img[0: height, 100: width]"
   ]
  },
  {
   "cell_type": "code",
   "execution_count": 99,
   "metadata": {},
   "outputs": [],
   "source": [
    "cv2.imshow(\"roi\", roi)\n",
    "cv2.imshow(\"Img\", img)\n",
    "cv2.waitKey(0)\n",
    "cv2.destroyAllWindows()"
   ]
  },
  {
   "cell_type": "code",
   "execution_count": 100,
   "metadata": {},
   "outputs": [],
   "source": [
    "# Ocr\n",
    "url_api = \"https://api.ocr.space/parse/image\"\n",
    "_, compressedimage = cv2.imencode(\"images\\sample_ocr.jpg\", roi, [1, 90])\n",
    "file_bytes = io.BytesIO(compressedimage)"
   ]
  },
  {
   "cell_type": "code",
   "execution_count": 101,
   "metadata": {},
   "outputs": [],
   "source": [
    "result = requests.post(url_api,\n",
    "              files = {\"images\\sample_ocr.png\": file_bytes},\n",
    "              data = {\"apikey\": \"K83764290988957\",\n",
    "                      \"language\": \"eng\"})"
   ]
  },
  {
   "cell_type": "code",
   "execution_count": 102,
   "metadata": {},
   "outputs": [
    {
     "name": "stdout",
     "output_type": "stream",
     "text": [
      "{'ParsedResults': [{'TextOverlay': {'Lines': [], 'HasOverlay': False, 'Message': 'Text overlay is not provided as it is not requested'}, 'TextOrientation': '0', 'FileParseExitCode': 1, 'ParsedText': \"NUTRITION INFORMATION\\r\\nServing Size: 13\\r\\nNo. of Secvings pack- 12\\r\\nA rox. Values per 100 g\\r\\nEnergy\\r\\nProtein\\r\\nCarbohydrate\\r\\nof whirh Total Sugars\\r\\nAdrie', Sugars\\r\\nTot']i\\r\\nSaturated fatty acids\\r\\nMono unsaturated fatty acids\\r\\nPoly unsaturated fatty acids\\r\\nTrans fatty acids\\r\\nCholesterol\\r\\nSodium\\r\\n487 kcal\\r\\n19 g\\r\\n0 mg\\r\\n486 mg\\r\\nServe\\r\\nROA\\r\\n3\\r\\n4\\r\\n5\\r\\n3\\r\\n'IGuide/ine Daily Amount of an gverage adult (based on dii\\r\\n13\\r\\n\", 'ErrorMessage': '', 'ErrorDetails': ''}], 'OCRExitCode': 1, 'IsErroredOnProcessing': False, 'ProcessingTimeInMilliseconds': '1281', 'SearchablePDFURL': 'Searchable PDF not generated as it was not requested.'}\n"
     ]
    }
   ],
   "source": [
    "result = result.content.decode()\n",
    "result = json.loads(result)\n",
    "print(result)"
   ]
  },
  {
   "cell_type": "code",
   "execution_count": 103,
   "metadata": {},
   "outputs": [
    {
     "name": "stdout",
     "output_type": "stream",
     "text": [
      "NUTRITION INFORMATION\n",
      "Serving Size: 13\n",
      "No. of Secvings pack- 12\n",
      "A rox. Values per 100 g\n",
      "Energy\n",
      "Protein\n",
      "Carbohydrate\n",
      "of whirh Total Sugars\n",
      "Adrie', Sugars\n",
      "Tot']i\n",
      "Saturated fatty acids\n",
      "Mono unsaturated fatty acids\n",
      "Poly unsaturated fatty acids\n",
      "Trans fatty acids\n",
      "Cholesterol\n",
      "Sodium\n",
      "487 kcal\n",
      "19 g\n",
      "0 mg\n",
      "486 mg\n",
      "Serve\n",
      "ROA\n",
      "3\n",
      "4\n",
      "5\n",
      "3\n",
      "'IGuide/ine Daily Amount of an gverage adult (based on dii\n",
      "13\n",
      "\n"
     ]
    }
   ],
   "source": [
    "parsed_results = result.get(\"ParsedResults\")\n",
    "if parsed_results is not None:\n",
    "    parsed_result = parsed_results[0]\n",
    "    text_detected = parsed_result.get(\"ParsedText\")\n",
    "    print(text_detected)\n",
    "else:\n",
    "    print(\"ParsedResults is None\")"
   ]
  }
 ],
 "metadata": {
  "kernelspec": {
   "display_name": "Python 3",
   "language": "python",
   "name": "python3"
  },
  "language_info": {
   "codemirror_mode": {
    "name": "ipython",
    "version": 3
   },
   "file_extension": ".py",
   "mimetype": "text/x-python",
   "name": "python",
   "nbconvert_exporter": "python",
   "pygments_lexer": "ipython3",
   "version": "3.11.4"
  }
 },
 "nbformat": 4,
 "nbformat_minor": 2
}
