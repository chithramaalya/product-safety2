{
 "cells": [
  {
   "cell_type": "code",
   "execution_count": 58,
   "metadata": {},
   "outputs": [],
   "source": [
    "import pandas as pd\n",
    "import numpy as np\n",
    "from sklearn.ensemble import RandomForestClassifier\n",
    "from sklearn.model_selection import train_test_split\n",
    "from sklearn.metrics import accuracy_score\n",
    "import joblib"
   ]
  },
  {
   "cell_type": "code",
   "execution_count": 59,
   "metadata": {},
   "outputs": [],
   "source": [
    "df = pd.read_csv('./testdata.csv')"
   ]
  },
  {
   "cell_type": "code",
   "execution_count": 60,
   "metadata": {},
   "outputs": [
    {
     "data": {
      "text/plain": [
       "Index(['Energy', 'Fat', 'Saturated Fat', 'Carbohydrates', 'Sugars', 'Fiber',\n",
       "       'Proteins', 'Salt', 'Baby Rating', 'Adult Rating', 'Muscle Gainer',\n",
       "       'Weight Loser'],\n",
       "      dtype='object')"
      ]
     },
     "execution_count": 60,
     "metadata": {},
     "output_type": "execute_result"
    }
   ],
   "source": [
    "df.columns"
   ]
  },
  {
   "cell_type": "code",
<<<<<<< HEAD
   "execution_count": 313,
=======
<<<<<<< HEAD
   "execution_count": 61,
=======
   "execution_count": 27,
>>>>>>> d10ebb25f58ad8d54a36dfe377dfff6faa58cd69
   "metadata": {},
   "outputs": [
    {
     "data": {
      "text/html": [
       "<div>\n",
       "<style scoped>\n",
       "    .dataframe tbody tr th:only-of-type {\n",
       "        vertical-align: middle;\n",
       "    }\n",
       "\n",
       "    .dataframe tbody tr th {\n",
       "        vertical-align: top;\n",
       "    }\n",
       "\n",
       "    .dataframe thead th {\n",
       "        text-align: right;\n",
       "    }\n",
       "</style>\n",
       "<table border=\"1\" class=\"dataframe\">\n",
       "  <thead>\n",
       "    <tr style=\"text-align: right;\">\n",
       "      <th></th>\n",
       "      <th>Energy</th>\n",
       "      <th>Fat</th>\n",
       "      <th>Saturated Fat</th>\n",
       "      <th>Carbohydrates</th>\n",
       "      <th>Sugars</th>\n",
       "      <th>Fiber</th>\n",
       "      <th>Proteins</th>\n",
       "      <th>Salt</th>\n",
       "      <th>Baby Rating</th>\n",
       "      <th>Adult Rating</th>\n",
       "      <th>Muscle Gainer</th>\n",
       "      <th>Weight Loser</th>\n",
       "    </tr>\n",
       "  </thead>\n",
       "  <tbody>\n",
       "    <tr>\n",
       "      <th>0</th>\n",
       "      <td>194.0</td>\n",
       "      <td>0.00</td>\n",
       "      <td>0.0</td>\n",
       "      <td>11.0</td>\n",
       "      <td>11.0</td>\n",
       "      <td>0.0</td>\n",
       "      <td>0.00</td>\n",
       "      <td>0.100</td>\n",
       "      <td>8</td>\n",
       "      <td>6</td>\n",
       "      <td>4</td>\n",
       "      <td>9</td>\n",
       "    </tr>\n",
       "    <tr>\n",
       "      <th>1</th>\n",
       "      <td>167.0</td>\n",
       "      <td>0.00</td>\n",
       "      <td>0.0</td>\n",
       "      <td>10.0</td>\n",
       "      <td>9.8</td>\n",
       "      <td>0.0</td>\n",
       "      <td>0.00</td>\n",
       "      <td>0.014</td>\n",
       "      <td>7</td>\n",
       "      <td>6</td>\n",
       "      <td>5</td>\n",
       "      <td>8</td>\n",
       "    </tr>\n",
       "    <tr>\n",
       "      <th>2</th>\n",
       "      <td>176.0</td>\n",
       "      <td>0.00</td>\n",
       "      <td>0.0</td>\n",
       "      <td>10.6</td>\n",
       "      <td>10.4</td>\n",
       "      <td>0.0</td>\n",
       "      <td>0.00</td>\n",
       "      <td>0.002</td>\n",
       "      <td>7</td>\n",
       "      <td>6</td>\n",
       "      <td>5</td>\n",
       "      <td>8</td>\n",
       "    </tr>\n",
       "    <tr>\n",
       "      <th>3</th>\n",
       "      <td>1157.0</td>\n",
       "      <td>0.56</td>\n",
       "      <td>0.5</td>\n",
       "      <td>66.6</td>\n",
       "      <td>63.7</td>\n",
       "      <td>0.0</td>\n",
       "      <td>1.27</td>\n",
       "      <td>0.182</td>\n",
       "      <td>8</td>\n",
       "      <td>6</td>\n",
       "      <td>4</td>\n",
       "      <td>7</td>\n",
       "    </tr>\n",
       "    <tr>\n",
       "      <th>4</th>\n",
       "      <td>1958.0</td>\n",
       "      <td>17.50</td>\n",
       "      <td>17.3</td>\n",
       "      <td>75.1</td>\n",
       "      <td>70.0</td>\n",
       "      <td>0.0</td>\n",
       "      <td>3.60</td>\n",
       "      <td>0.185</td>\n",
       "      <td>7</td>\n",
       "      <td>5</td>\n",
       "      <td>4</td>\n",
       "      <td>6</td>\n",
       "    </tr>\n",
       "    <tr>\n",
       "      <th>...</th>\n",
       "      <td>...</td>\n",
       "      <td>...</td>\n",
       "      <td>...</td>\n",
       "      <td>...</td>\n",
       "      <td>...</td>\n",
       "      <td>...</td>\n",
       "      <td>...</td>\n",
       "      <td>...</td>\n",
       "      <td>...</td>\n",
       "      <td>...</td>\n",
       "      <td>...</td>\n",
       "      <td>...</td>\n",
       "    </tr>\n",
       "    <tr>\n",
       "      <th>66</th>\n",
       "      <td>1600.0</td>\n",
       "      <td>2.00</td>\n",
       "      <td>0.0</td>\n",
       "      <td>80.0</td>\n",
       "      <td>6.0</td>\n",
       "      <td>12.0</td>\n",
       "      <td>10.00</td>\n",
       "      <td>0.000</td>\n",
       "      <td>5</td>\n",
       "      <td>5</td>\n",
       "      <td>6</td>\n",
       "      <td>3</td>\n",
       "    </tr>\n",
       "    <tr>\n",
       "      <th>67</th>\n",
       "      <td>2500.0</td>\n",
       "      <td>50.00</td>\n",
       "      <td>10.0</td>\n",
       "      <td>30.0</td>\n",
       "      <td>7.0</td>\n",
       "      <td>4.0</td>\n",
       "      <td>15.00</td>\n",
       "      <td>0.050</td>\n",
       "      <td>1</td>\n",
       "      <td>3</td>\n",
       "      <td>8</td>\n",
       "      <td>4</td>\n",
       "    </tr>\n",
       "    <tr>\n",
       "      <th>68</th>\n",
       "      <td>500.0</td>\n",
       "      <td>0.00</td>\n",
       "      <td>0.0</td>\n",
       "      <td>6.0</td>\n",
       "      <td>2.0</td>\n",
       "      <td>1.0</td>\n",
       "      <td>12.00</td>\n",
       "      <td>1.000</td>\n",
       "      <td>8</td>\n",
       "      <td>3</td>\n",
       "      <td>1</td>\n",
       "      <td>1</td>\n",
       "    </tr>\n",
       "    <tr>\n",
       "      <th>69</th>\n",
       "      <td>1800.0</td>\n",
       "      <td>12.00</td>\n",
       "      <td>5.0</td>\n",
       "      <td>60.0</td>\n",
       "      <td>1.5</td>\n",
       "      <td>4.0</td>\n",
       "      <td>7.00</td>\n",
       "      <td>1.000</td>\n",
       "      <td>6</td>\n",
       "      <td>5</td>\n",
       "      <td>4</td>\n",
       "      <td>8</td>\n",
       "    </tr>\n",
       "    <tr>\n",
       "      <th>70</th>\n",
       "      <td>2400.0</td>\n",
       "      <td>90.00</td>\n",
       "      <td>30.0</td>\n",
       "      <td>150.0</td>\n",
       "      <td>40.0</td>\n",
       "      <td>8.0</td>\n",
       "      <td>120.00</td>\n",
       "      <td>0.300</td>\n",
       "      <td>9</td>\n",
       "      <td>8</td>\n",
       "      <td>7</td>\n",
       "      <td>5</td>\n",
       "    </tr>\n",
       "  </tbody>\n",
       "</table>\n",
       "<p>71 rows × 12 columns</p>\n",
       "</div>"
      ],
      "text/plain": [
       "    Energy    Fat  Saturated Fat  Carbohydrates  Sugars  Fiber  Proteins  \\\n",
       "0    194.0   0.00            0.0           11.0    11.0    0.0      0.00   \n",
       "1    167.0   0.00            0.0           10.0     9.8    0.0      0.00   \n",
       "2    176.0   0.00            0.0           10.6    10.4    0.0      0.00   \n",
       "3   1157.0   0.56            0.5           66.6    63.7    0.0      1.27   \n",
       "4   1958.0  17.50           17.3           75.1    70.0    0.0      3.60   \n",
       "..     ...    ...            ...            ...     ...    ...       ...   \n",
       "66  1600.0   2.00            0.0           80.0     6.0   12.0     10.00   \n",
       "67  2500.0  50.00           10.0           30.0     7.0    4.0     15.00   \n",
       "68   500.0   0.00            0.0            6.0     2.0    1.0     12.00   \n",
       "69  1800.0  12.00            5.0           60.0     1.5    4.0      7.00   \n",
       "70  2400.0  90.00           30.0          150.0    40.0    8.0    120.00   \n",
       "\n",
       "     Salt  Baby Rating  Adult Rating  Muscle Gainer  Weight Loser  \n",
       "0   0.100            8             6              4             9  \n",
       "1   0.014            7             6              5             8  \n",
       "2   0.002            7             6              5             8  \n",
       "3   0.182            8             6              4             7  \n",
       "4   0.185            7             5              4             6  \n",
       "..    ...          ...           ...            ...           ...  \n",
       "66  0.000            5             5              6             3  \n",
       "67  0.050            1             3              8             4  \n",
       "68  1.000            8             3              1             1  \n",
       "69  1.000            6             5              4             8  \n",
       "70  0.300            9             8              7             5  \n",
       "\n",
       "[71 rows x 12 columns]"
      ]
     },
     "execution_count": 313,
     "metadata": {},
     "output_type": "execute_result"
    }
   ],
   "source": [
    "df"
   ]
  },
  {
   "cell_type": "code",
<<<<<<< HEAD
   "execution_count": 314,
=======
   "execution_count": 29,
>>>>>>> 826e08cba1f5b2a59edb1c04d004a626435c6182
>>>>>>> d10ebb25f58ad8d54a36dfe377dfff6faa58cd69
   "metadata": {},
   "outputs": [],
   "source": [
    "df['Energy'] = df['Energy'].astype(float)\n",
    "df['Fat'] = df['Fat'].astype(float)\n",
    "df['Saturated Fat'] = df['Saturated Fat'].astype(float)\n",
    "df['Carbohydrates'] = df['Carbohydrates'].astype(float)\n",
    "df['Sugars'] = df['Sugars'].astype(float)\n",
    "df['Fiber'] = df['Fiber'].astype(float)\n",
    "df['Proteins'] = df['Proteins'].astype(float)\n",
    "df['Salt'] = df['Salt'].astype(float)\n",
    "df['Baby Rating'] = df['Baby Rating'].astype(float)\n",
    "df['Adult Rating'] = df['Adult Rating'].astype(float)\n",
    "df['Muscle Gainer'] = df['Muscle Gainer'].astype(float)\n",
    "df['Weight Loser'] = df['Weight Loser'].astype(float)\n"
   ]
  },
  {
   "cell_type": "code",
<<<<<<< HEAD
   "execution_count": 315,
=======
<<<<<<< HEAD
   "execution_count": 62,
=======
   "execution_count": 30,
>>>>>>> 826e08cba1f5b2a59edb1c04d004a626435c6182
>>>>>>> d10ebb25f58ad8d54a36dfe377dfff6faa58cd69
   "metadata": {},
   "outputs": [
    {
     "name": "stdout",
     "output_type": "stream",
     "text": [
      "<class 'pandas.core.frame.DataFrame'>\n",
<<<<<<< HEAD
      "RangeIndex: 71 entries, 0 to 70\n",
      "Data columns (total 12 columns):\n",
      " #   Column         Non-Null Count  Dtype  \n",
      "---  ------         --------------  -----  \n",
      " 0   Energy         71 non-null     float64\n",
      " 1   Fat            71 non-null     float64\n",
      " 2   Saturated Fat  71 non-null     float64\n",
      " 3   Carbohydrates  71 non-null     float64\n",
      " 4   Sugars         71 non-null     float64\n",
      " 5   Fiber          71 non-null     float64\n",
      " 6   Proteins       71 non-null     float64\n",
      " 7   Salt           71 non-null     float64\n",
      " 8   Baby Rating    71 non-null     float64\n",
      " 9   Adult Rating   71 non-null     float64\n",
      " 10  Muscle Gainer  71 non-null     float64\n",
      " 11  Weight Loser   71 non-null     float64\n",
      "dtypes: float64(12)\n",
      "memory usage: 6.8 KB\n"
=======
      "RangeIndex: 55 entries, 0 to 54\n",
      "Data columns (total 11 columns):\n",
      " #   Column          Non-Null Count  Dtype  \n",
      "---  ------          --------------  -----  \n",
      " 0   Energy          55 non-null     float64\n",
      " 1   Fat             55 non-null     float64\n",
      " 2   Saturated Fat   55 non-null     float64\n",
      " 3   Carbohydrates   55 non-null     float64\n",
      " 4   Sugars          55 non-null     float64\n",
      " 5   Fiber           55 non-null     float64\n",
      " 6   Proteins        55 non-null     float64\n",
      " 7   Salt            55 non-null     float64\n",
      " 8   Baby Rating     55 non-null     float64\n",
      " 9   Adult Rating    55 non-null     float64\n",
      " 10  Elderly Rating  55 non-null     float64\n",
      "dtypes: float64(11)\n",
      "memory usage: 4.9 KB\n"
>>>>>>> d10ebb25f58ad8d54a36dfe377dfff6faa58cd69
     ]
    }
   ],
   "source": [
    "df.info()"
   ]
  },
  {
   "cell_type": "code",
<<<<<<< HEAD
   "execution_count": 316,
=======
<<<<<<< HEAD
   "execution_count": 63,
=======
   "execution_count": 31,
>>>>>>> 826e08cba1f5b2a59edb1c04d004a626435c6182
>>>>>>> d10ebb25f58ad8d54a36dfe377dfff6faa58cd69
   "metadata": {},
   "outputs": [],
   "source": [
    "from sklearn.ensemble import RandomForestRegressor\n",
    "from sklearn.model_selection import train_test_split\n",
    "from sklearn.metrics import mean_squared_error\n",
    "import numpy as np\n",
    "\n",
    "X=df.drop(['Baby Rating','Adult Rating','Muscle Gainer','Weight Loser'], axis=1)\n",
    "y1=df['Baby Rating']\n",
    "y2=df['Adult Rating']\n",
    "y3=df['Muscle Gainer']\n",
    "y4=df['Weight Loser']\n",
    "X_train1,X_test1,y_train1,y_test1=train_test_split(X,y1,test_size=0.2,random_state=42)\n",
    "X_train2,X_test2,y_train2,y_test2=train_test_split(X,y2,test_size=0.2,random_state=42)\n",
    "X_train3,X_test3,y_train3,y_test3=train_test_split(X,y3,test_size=0.2,random_state=42)\n",
    "X_train4,X_test4,y_train4,y_test4=train_test_split(X,y4,test_size=0.2,random_state=42)"
   ]
  },
  {
   "cell_type": "code",
<<<<<<< HEAD
   "execution_count": 317,
=======
<<<<<<< HEAD
   "execution_count": 64,
   "metadata": {},
   "outputs": [],
   "source": [
    "reg = RandomForestRegressor(n_estimators=100, random_state=42)\n",
    "\n",
    "reg.fit(X_train1, y_train1)\n",
    "\n",
    "y_pred1 = reg.predict(X_test1)"
=======
   "execution_count": 32,
>>>>>>> d10ebb25f58ad8d54a36dfe377dfff6faa58cd69
   "metadata": {},
   "outputs": [],
   "source": [
    "reg1=RandomForestRegressor(n_estimators=100, random_state=42)\n",
    "reg1.fit(X_train1,y_train1)\n",
    "y_pred1=reg1.predict(X_test1)"
   ]
  },
  {
   "cell_type": "markdown",
   "metadata": {},
   "source": [
    "### Adults Model\n"
>>>>>>> 826e08cba1f5b2a59edb1c04d004a626435c6182
   ]
  },
  {
   "cell_type": "code",
<<<<<<< HEAD
   "execution_count": 318,
=======
<<<<<<< HEAD
   "execution_count": 65,
=======
   "execution_count": 26,
>>>>>>> d10ebb25f58ad8d54a36dfe377dfff6faa58cd69
   "metadata": {},
   "outputs": [],
   "source": [
    "reg2=RandomForestRegressor(n_estimators=100,random_state=42)\n",
    "reg2.fit(X_train2,y_train2)\n",
    "y_pred2=reg2.predict(X_test2)"
   ]
  },
  {
   "cell_type": "markdown",
   "metadata": {},
   "source": [
    "### OldPeople Model"
   ]
  },
  {
   "cell_type": "code",
   "execution_count": 319,
   "metadata": {},
   "outputs": [],
   "source": [
    "reg3=RandomForestRegressor(n_estimators=100,random_state=42)\n",
    "reg3.fit(X_train3,y_train3)\n",
    "y_pred3=reg3.predict(X_test3)"
   ]
  },
  {
   "cell_type": "code",
<<<<<<< HEAD
   "execution_count": 320,
   "metadata": {},
   "outputs": [],
   "source": [
    "reg4=RandomForestRegressor(n_estimators=100,random_state=42)\n",
    "reg4.fit(X_train4,y_train4)\n",
    "y_pred4=reg4.predict(X_test4)"
   ]
  },
  {
   "cell_type": "code",
   "execution_count": 321,
   "metadata": {},
   "outputs": [
    {
     "data": {
      "text/plain": [
       "Index(['Energy', 'Fat', 'Saturated Fat', 'Carbohydrates', 'Sugars', 'Fiber',\n",
       "       'Proteins', 'Salt', 'Baby Rating', 'Adult Rating', 'Muscle Gainer',\n",
       "       'Weight Loser'],\n",
       "      dtype='object')"
      ]
     },
     "execution_count": 321,
     "metadata": {},
     "output_type": "execute_result"
    }
   ],
   "source": [
    "df.columns"
   ]
  },
  {
   "cell_type": "code",
   "execution_count": 322,
   "metadata": {},
   "outputs": [
    {
     "name": "stderr",
     "output_type": "stream",
     "text": [
      "c:\\Users\\sriyo\\AppData\\Local\\Programs\\Python\\Python310\\lib\\site-packages\\sklearn\\base.py:465: UserWarning: X does not have valid feature names, but RandomForestRegressor was fitted with feature names\n",
      "  warnings.warn(\n"
     ]
    },
    {
     "data": {
      "text/plain": [
       "array([5.21])"
      ]
     },
     "execution_count": 322,
     "metadata": {},
     "output_type": "execute_result"
    }
   ],
   "source": [
    "#peanut butter\n",
    "reg4.predict([[588,50,9.5,24,9,5.7,22,0.2]])"
   ]
  },
  {
   "cell_type": "code",
   "execution_count": 323,
   "metadata": {},
   "outputs": [
    {
     "name": "stderr",
     "output_type": "stream",
     "text": [
      "c:\\Users\\sriyo\\AppData\\Local\\Programs\\Python\\Python310\\lib\\site-packages\\sklearn\\base.py:465: UserWarning: X does not have valid feature names, but RandomForestRegressor was fitted with feature names\n",
      "  warnings.warn(\n"
     ]
    },
    {
     "data": {
      "text/plain": [
       "array([4.3])"
      ]
     },
     "execution_count": 323,
     "metadata": {},
     "output_type": "execute_result"
    }
   ],
   "source": [
    "reg4.predict([[2473,92.52,31.244,172.45,45.21,8.9,103.03,0.2]])"
   ]
  },
  {
   "cell_type": "code",
   "execution_count": 324,
=======
   "execution_count": 33,
>>>>>>> 826e08cba1f5b2a59edb1c04d004a626435c6182
>>>>>>> d10ebb25f58ad8d54a36dfe377dfff6faa58cd69
   "metadata": {},
   "outputs": [
    {
     "name": "stdout",
     "output_type": "stream",
     "text": [
<<<<<<< HEAD
      "Root Mean Squared Error: 2.028666228502527\n"
=======
      "Root Mean Squared Error: 1.424260573707698\n"
>>>>>>> d10ebb25f58ad8d54a36dfe377dfff6faa58cd69
     ]
    }
   ],
   "source": [
    "rmse=np.sqrt(mean_squared_error(y_test4,y_pred4))\n",
    "print(f'Root Mean Squared Error: {rmse}')"
   ]
  },
  {
<<<<<<< HEAD
   "cell_type": "markdown",
=======
   "cell_type": "code",
   "execution_count": 66,
>>>>>>> d10ebb25f58ad8d54a36dfe377dfff6faa58cd69
   "metadata": {},
   "source": [
    "## FOr 1\n"
   ]
  },
  {
   "cell_type": "code",
   "execution_count": 325,
   "metadata": {},
   "outputs": [
    {
     "name": "stdout",
     "output_type": "stream",
     "text": [
      "Fitting 3 folds for each of 1000 candidates, totalling 3000 fits\n",
      "Best parameters: {'bootstrap': True, 'max_depth': None, 'min_samples_leaf': 8, 'min_samples_split': 2, 'n_estimators': 100}\n"
     ]
    }
   ],
   "source": [
    "# from sklearn.ensemble import RandomForestRegressor\n",
    "# from sklearn.model_selection import GridSearchCV\n",
    "\n",
<<<<<<< HEAD
    "# # Define the parameter grid\n",
    "# param_grid = {\n",
    "#     'n_estimators': [100, 200, 300, 400,500],\n",
    "#     'max_depth': [None, 10, 20, 30, 40],\n",
    "#     'min_samples_split': [2, 5, 10,20],\n",
    "#     'min_samples_leaf': [1, 2, 4, 8, 16],\n",
    "#     'bootstrap': [True, False]\n",
    "# }\n",
    "\n",
    "# # Create a base model\n",
    "# rf = RandomForestRegressor()\n",
=======
    "\n",
    "param_grid = {\n",
    "    'n_estimators': [100, 200, 300, 400,500],\n",
    "    'max_depth': [None, 10, 20, 30, 40],\n",
    "    'min_samples_split': [2, 5, 10,20],\n",
    "    'min_samples_leaf': [1, 2, 4, 8, 16],\n",
    "    'bootstrap': [True, False]\n",
    "}\n",
    "\n",
    "rf = RandomForestRegressor()\n",
>>>>>>> 826e08cba1f5b2a59edb1c04d004a626435c6182
    "\n",
<<<<<<< HEAD
    "\n",
    "grid_search = GridSearchCV(estimator=rf, param_grid=param_grid, cv=3, n_jobs=-1, verbose=2)\n",
    "\n",
    "\n",
    "grid_search.fit(X_train1, y_train1)\n",
    "\n",
    "best_params = grid_search.best_params_\n",
=======
    "# # Instantiate the grid search model\n",
    "# grid_search = GridSearchCV(estimator=rf, param_grid=param_grid, cv=3, n_jobs=-1, verbose=2)\n",
    "\n",
    "# # Fit the grid search to the data\n",
    "# grid_search.fit(X_train1, y_train1)\n",
    "\n",
    "# # Get the best parameters\n",
    "# best_params = grid_search.best_params_\n",
>>>>>>> d10ebb25f58ad8d54a36dfe377dfff6faa58cd69
    "\n",
    "# print(f'Best parameters: {best_params}')"
   ]
  },
  {
   "cell_type": "code",
<<<<<<< HEAD
   "execution_count": 326,
=======
   "execution_count": 67,
>>>>>>> d10ebb25f58ad8d54a36dfe377dfff6faa58cd69
   "metadata": {},
   "outputs": [
    {
     "name": "stdout",
     "output_type": "stream",
     "text": [
<<<<<<< HEAD
      "Training RMSE: 1.4266357969708623\n",
      "Test RMSE: 2.2485230693656013\n"
=======
      "Training RMSE: 0.6258858389779913\n",
      "Test RMSE: 1.5149371825436146\n",
      "R^2 score: 0.6665072010869566\n"
>>>>>>> d10ebb25f58ad8d54a36dfe377dfff6faa58cd69
     ]
    }
   ],
   "source": [
<<<<<<< HEAD
    "best_rf = RandomForestRegressor(\n",
    "    bootstrap=True,\n",
    "    max_depth=None,\n",
    "    min_samples_leaf=8,\n",
=======
    "# Create a new model with the best parameters\n",
    "\n",
    "from sklearn.metrics import r2_score\n",
    "best_rf = RandomForestRegressor(\n",
    "    bootstrap=True,\n",
    "    max_depth=40,\n",
    "    min_samples_leaf=2,\n",
>>>>>>> d10ebb25f58ad8d54a36dfe377dfff6faa58cd69
    "    min_samples_split=2,\n",
    "    n_estimators=100,\n",
    "    random_state=42 \n",
    ")\n",
    "\n",
    "\n",
    "\n",
<<<<<<< HEAD
    "best_rf.fit(X_train1, y_train1)\n",
    "\n",
    "y_train_pred = best_rf.predict(X_train1)\n",
    "\n",
    "\n",
    "y_test_pred = best_rf.predict(X_test1)\n",
    "\n",
    "\n",
    "rmse_train = np.sqrt(mean_squared_error(y_train1, y_train_pred))\n",
    "\n",
    "\n",
    "rmse_test = np.sqrt(mean_squared_error(y_test1, y_test_pred))\n",
    "\n",
    "print(f'Training RMSE: {rmse_train}')\n",
    "print(f'Test RMSE: {rmse_test}')"
   ]
  },
  {
   "cell_type": "code",
   "execution_count": 329,
   "metadata": {},
   "outputs": [
    {
     "data": {
      "text/plain": [
       "['model1.pkl']"
      ]
     },
     "execution_count": 329,
     "metadata": {},
     "output_type": "execute_result"
    }
   ],
   "source": [
    "joblib.dump(best_rf,'model1.pkl')"
   ]
  },
  {
   "cell_type": "markdown",
   "metadata": {},
   "source": [
    "## For 2"
   ]
  },
  {
   "cell_type": "code",
   "execution_count": 330,
   "metadata": {},
   "outputs": [
    {
     "name": "stdout",
     "output_type": "stream",
     "text": [
      "Fitting 3 folds for each of 1000 candidates, totalling 3000 fits\n"
     ]
    },
    {
     "name": "stdout",
     "output_type": "stream",
     "text": [
      "Best parameters: {'bootstrap': True, 'max_depth': 30, 'min_samples_leaf': 1, 'min_samples_split': 2, 'n_estimators': 100}\n"
     ]
    }
   ],
   "source": [
    "from sklearn.ensemble import RandomForestRegressor\n",
    "from sklearn.model_selection import GridSearchCV\n",
    "\n",
    "\n",
    "param_grid = {\n",
    "    'n_estimators': [100, 200, 300, 400,500],\n",
    "    'max_depth': [None, 10, 20, 30, 40],\n",
    "    'min_samples_split': [2, 5, 10,20],\n",
    "    'min_samples_leaf': [1, 2, 4, 8, 16],\n",
    "    'bootstrap': [True, False]\n",
    "}\n",
    "\n",
    "rf = RandomForestRegressor()\n",
    "\n",
    "\n",
    "grid_search = GridSearchCV(estimator=rf, param_grid=param_grid, cv=3, n_jobs=-1, verbose=2)\n",
    "\n",
    "\n",
    "grid_search.fit(X_train2, y_train2)\n",
    "\n",
    "\n",
    "best_params = grid_search.best_params_\n",
    "\n",
    "print(f'Best parameters: {best_params}')"
=======
    "# Train the model\n",
    "best_rf.fit(X_train1, y_train1)\n",
    "\n",
    "# Make predictions on the training set\n",
    "y_train_pred = best_rf.predict(X_train1)\n",
    "\n",
    "# Make predictions on the test set\n",
    "y_test_pred = best_rf.predict(X_test1)\n",
    "\n",
    "# Calculate the root mean squared error for the training set\n",
    "rmse_train = np.sqrt(mean_squared_error(y_train1, y_train_pred))\n",
    "\n",
    "# Calculate the root mean squared error for the test set\n",
    "rmse_test = np.sqrt(mean_squared_error(y_test1, y_test_pred))\n",
    "\n",
    "print(f'Training RMSE: {rmse_train}')\n",
    "print(f'Test RMSE: {rmse_test}')\n",
    "\n",
    "# Calculate the R^2 score\n",
    "r2 = r2_score(y_test1, y_pred1)\n",
    "\n",
    "# Print the R^2 score\n",
    "print(\"R^2 score:\", r2)"
>>>>>>> d10ebb25f58ad8d54a36dfe377dfff6faa58cd69
   ]
  },
  {
   "cell_type": "code",
<<<<<<< HEAD
   "execution_count": 331,
=======
   "execution_count": 57,
>>>>>>> d10ebb25f58ad8d54a36dfe377dfff6faa58cd69
   "metadata": {},
   "outputs": [
    {
     "name": "stdout",
     "output_type": "stream",
     "text": [
<<<<<<< HEAD
      "Training RMSE: 0.3361122261558311\n",
      "Test RMSE: 0.9695222191024468\n"
=======
      "Root Mean Squared Error: 1.4188849905058343\n",
      "R^2 score: 0.6690198524861254\n"
>>>>>>> d10ebb25f58ad8d54a36dfe377dfff6faa58cd69
     ]
    }
   ],
   "source": [
<<<<<<< HEAD
    "best_rf2 = RandomForestRegressor(\n",
    "    bootstrap=True,\n",
    "    max_depth=30,\n",
    "    min_samples_leaf=1,\n",
    "    min_samples_split=2,\n",
    "    n_estimators=100,\n",
    "    random_state=42 \n",
    ")\n",
    "\n",
    "\n",
    "\n",
    "best_rf2.fit(X_train2, y_train2)\n",
    "\n",
    "y_train_pred = best_rf2.predict(X_train2)\n",
    "\n",
    "\n",
    "y_test_pred = best_rf2.predict(X_test2)\n",
    "\n",
    "rmse_train = np.sqrt(mean_squared_error(y_train2, y_train_pred))\n",
    "\n",
    "rmse_test = np.sqrt(mean_squared_error(y_test2, y_test_pred))\n",
    "\n",
    "print(f'Training RMSE: {rmse_train}')\n",
    "print(f'Test RMSE: {rmse_test}')"
   ]
  },
  {
   "cell_type": "code",
   "execution_count": 332,
   "metadata": {},
   "outputs": [
    {
     "data": {
      "text/plain": [
       "['model2.pkl']"
      ]
     },
     "execution_count": 332,
     "metadata": {},
     "output_type": "execute_result"
    }
   ],
   "source": [
    "joblib.dump(best_rf2,'model2.pkl')"
   ]
  },
  {
   "cell_type": "markdown",
   "metadata": {},
   "source": [
    "## for 3"
   ]
  },
  {
   "cell_type": "code",
   "execution_count": 333,
   "metadata": {},
   "outputs": [
    {
     "name": "stdout",
     "output_type": "stream",
     "text": [
      "Fitting 3 folds for each of 1000 candidates, totalling 3000 fits\n"
     ]
    },
    {
     "name": "stdout",
     "output_type": "stream",
     "text": [
      "Best parameters: {'bootstrap': False, 'max_depth': None, 'min_samples_leaf': 8, 'min_samples_split': 2, 'n_estimators': 200}\n"
     ]
    }
   ],
   "source": [
    "from sklearn.ensemble import RandomForestRegressor\n",
    "from sklearn.model_selection import GridSearchCV\n",
    "\n",
    "\n",
    "param_grid = {\n",
    "    'n_estimators': [100, 200, 300, 400,500],\n",
    "    'max_depth': [None, 10, 20, 30, 40],\n",
    "    'min_samples_split': [2, 5, 10,20],\n",
    "    'min_samples_leaf': [1, 2, 4, 8, 16],\n",
    "    'bootstrap': [True, False]\n",
    "}\n",
    "\n",
    "rf = RandomForestRegressor()\n",
    "\n",
    "grid_search = GridSearchCV(estimator=rf, param_grid=param_grid, cv=3, n_jobs=-1, verbose=2)\n",
    "\n",
    "grid_search.fit(X_train3, y_train3)\n",
    "\n",
    "\n",
    "best_params = grid_search.best_params_\n",
    "\n",
    "print(f'Best parameters: {best_params}')"
   ]
  },
  {
   "cell_type": "code",
   "execution_count": 334,
   "metadata": {},
   "outputs": [
    {
     "name": "stdout",
     "output_type": "stream",
     "text": [
      "Training RMSE: 1.3450514762480328\n",
      "Test RMSE: 2.3382126667919403\n"
     ]
    }
   ],
   "source": [
    "best_rf3 = RandomForestRegressor(\n",
    "    bootstrap=False,\n",
    "    max_depth=None,\n",
    "    min_samples_leaf=8,\n",
    "    min_samples_split=2,\n",
    "    n_estimators=200,\n",
    "    random_state=42 \n",
    ")\n",
    "\n",
    "best_rf3.fit(X_train3, y_train3)\n",
    "\n",
    "\n",
    "y_train_pred = best_rf3.predict(X_train3)\n",
    "\n",
    "y_test_pred = best_rf3.predict(X_test3)\n",
    "\n",
    "rmse_train = np.sqrt(mean_squared_error(y_train3, y_train_pred))\n",
    "\n",
    "rmse_test = np.sqrt(mean_squared_error(y_test3, y_test_pred))\n",
    "\n",
    "print(f'Training RMSE: {rmse_train}')\n",
    "print(f'Test RMSE: {rmse_test}')"
   ]
  },
  {
   "cell_type": "code",
   "execution_count": 338,
   "metadata": {},
   "outputs": [
    {
     "data": {
      "text/plain": [
       "['model3.pkl']"
      ]
     },
     "execution_count": 338,
     "metadata": {},
     "output_type": "execute_result"
    }
   ],
   "source": [
    "joblib.dump(best_rf3,'model3.pkl')"
   ]
  },
  {
   "cell_type": "markdown",
   "metadata": {},
   "source": [
    "## for 4"
   ]
  },
  {
   "cell_type": "code",
   "execution_count": 336,
   "metadata": {},
   "outputs": [
    {
     "name": "stdout",
     "output_type": "stream",
     "text": [
      "Fitting 3 folds for each of 1000 candidates, totalling 3000 fits\n"
     ]
    },
    {
     "name": "stdout",
     "output_type": "stream",
     "text": [
      "Best parameters: {'bootstrap': True, 'max_depth': None, 'min_samples_leaf': 1, 'min_samples_split': 2, 'n_estimators': 300}\n"
     ]
    }
   ],
   "source": [
    "from sklearn.ensemble import RandomForestRegressor\n",
    "from sklearn.model_selection import GridSearchCV\n",
    "\n",
    "\n",
    "param_grid = {\n",
    "    'n_estimators': [100, 200, 300, 400,500],\n",
    "    'max_depth': [None, 10, 20, 30, 40],\n",
    "    'min_samples_split': [2, 5, 10,20],\n",
    "    'min_samples_leaf': [1, 2, 4, 8, 16],\n",
    "    'bootstrap': [True, False]\n",
    "}\n",
    "\n",
    "rf = RandomForestRegressor()\n",
    "\n",
    "grid_search = GridSearchCV(estimator=rf, param_grid=param_grid, cv=3, n_jobs=-1, verbose=2)\n",
    "\n",
    "\n",
    "grid_search.fit(X_train4, y_train4)\n",
    "\n",
    "\n",
    "best_params = grid_search.best_params_\n",
    "\n",
    "print(f'Best parameters: {best_params}')"
   ]
  },
  {
   "cell_type": "code",
   "execution_count": 337,
   "metadata": {},
   "outputs": [
    {
     "name": "stdout",
     "output_type": "stream",
     "text": [
      "Training RMSE: 0.8067614810472716\n",
      "Test RMSE: 2.02200139209389\n"
     ]
    }
   ],
   "source": [
    "best_rf4 = RandomForestRegressor(\n",
    "    bootstrap=True,\n",
    "    max_depth=None,\n",
    "    min_samples_leaf=1,\n",
    "    min_samples_split=2,\n",
    "    n_estimators=300,\n",
    "    random_state=42 \n",
    ")\n",
    "\n",
    "best_rf4.fit(X_train4, y_train4)\n",
    "\n",
    "y_train_pred = best_rf4.predict(X_train4)\n",
    "\n",
    "y_test_pred = best_rf4.predict(X_test4)\n",
    "\n",
    "rmse_train = np.sqrt(mean_squared_error(y_train4, y_train_pred))\n",
    "\n",
    "rmse_test = np.sqrt(mean_squared_error(y_test4, y_test_pred))\n",
    "\n",
    "print(f'Training RMSE: {rmse_train}')\n",
    "print(f'Test RMSE: {rmse_test}')"
   ]
  },
  {
   "cell_type": "code",
   "execution_count": 339,
   "metadata": {},
   "outputs": [
    {
     "data": {
      "text/plain": [
       "['model4.pkl']"
      ]
     },
     "execution_count": 339,
     "metadata": {},
     "output_type": "execute_result"
    }
   ],
   "source": [
    "joblib.dump(best_rf4,'model4.pkl')"
   ]
  },
  {
   "cell_type": "markdown",
   "metadata": {},
   "source": [
    "### Test\n"
   ]
  },
  {
   "cell_type": "code",
   "execution_count": 306,
   "metadata": {},
   "outputs": [
    {
     "name": "stderr",
     "output_type": "stream",
     "text": [
      "c:\\Users\\sriyo\\AppData\\Local\\Programs\\Python\\Python310\\lib\\site-packages\\sklearn\\base.py:465: UserWarning: X does not have valid feature names, but RandomForestRegressor was fitted with feature names\n",
      "  warnings.warn(\n"
     ]
    },
    {
     "data": {
      "text/plain": [
       "array([7.09090909])"
      ]
     },
     "execution_count": 306,
     "metadata": {},
     "output_type": "execute_result"
    }
   ],
   "source": [
    "#peanut_butter for Weight Gain\n",
    "best_rf3.predict([[588,50,9.5,24,9,5.7,22,0.2]])"
   ]
  },
  {
   "cell_type": "code",
   "execution_count": 305,
   "metadata": {},
   "outputs": [
    {
     "name": "stderr",
     "output_type": "stream",
     "text": [
      "c:\\Users\\sriyo\\AppData\\Local\\Programs\\Python\\Python310\\lib\\site-packages\\sklearn\\base.py:465: UserWarning: X does not have valid feature names, but RandomForestRegressor was fitted with feature names\n",
      "  warnings.warn(\n"
     ]
    },
    {
     "data": {
      "text/plain": [
       "array([5.0825])"
      ]
     },
     "execution_count": 305,
     "metadata": {},
     "output_type": "execute_result"
    }
   ],
   "source": [
    "#peanut_butter for Weight Loss\n",
    "best_rf4.predict([[588,50,9.5,24,9,5.7,22,0.2]])"
   ]
  },
  {
   "cell_type": "code",
   "execution_count": 307,
   "metadata": {},
   "outputs": [
    {
     "data": {
      "text/plain": [
       "Index(['Energy', 'Fat', 'Saturated Fat', 'Carbohydrates', 'Sugars', 'Fiber',\n",
       "       'Proteins', 'Salt', 'Baby Rating', 'Adult Rating', 'Muscle Gainer',\n",
       "       'Weight Loser'],\n",
       "      dtype='object')"
      ]
     },
     "execution_count": 307,
     "metadata": {},
     "output_type": "execute_result"
    }
   ],
   "source": [
    "df.columns"
=======
    "from sklearn.linear_model import LinearRegression\n",
    "\n",
    "# Create an instance of the LinearRegression model\n",
    "model = LinearRegression()\n",
    "\n",
    "# Fit the model to the training data\n",
    "model.fit(X_train1, y_train1)\n",
    "\n",
    "# Make predictions on the test data\n",
    "y_pred = model.predict(X_test1)\n",
    "\n",
    "# Calculate the root mean squared error\n",
    "rmse = np.sqrt(mean_squared_error(y_test1, y_pred))\n",
    "\n",
    "# Print the root mean squared error\n",
    "print(f'Root Mean Squared Error: {rmse}')\n",
    "\n",
    "r2 = r2_score(y_test1, y_pred)\n",
    "\n",
    "# Print the R^2 score\n",
    "print(\"R^2 score:\", r2)"
>>>>>>> d10ebb25f58ad8d54a36dfe377dfff6faa58cd69
   ]
  },
  {
   "cell_type": "code",
   "execution_count": 68,
   "metadata": {},
   "outputs": [
    {
     "name": "stderr",
     "output_type": "stream",
     "text": [
      "c:\\Users\\pavan\\AppData\\Local\\Programs\\Python\\Python311\\Lib\\site-packages\\sklearn\\base.py:465: UserWarning: X does not have valid feature names, but RandomForestRegressor was fitted with feature names\n",
      "  warnings.warn(\n"
     ]
    },
    {
     "data": {
      "text/plain": [
       "array([7.13278571])"
      ]
     },
     "execution_count": 68,
     "metadata": {},
     "output_type": "execute_result"
    }
   ],
   "source": [
    "best_rf.predict([[2473,92.52,31.244,172.45,45.21,8.9,103.03,0.2]])"
   ]
  },
  {
   "cell_type": "code",
   "execution_count": null,
   "metadata": {},
   "outputs": [],
   "source": []
  },
  {
   "cell_type": "code",
   "execution_count": null,
   "metadata": {},
   "outputs": [],
   "source": []
  }
 ],
 "metadata": {
  "kernelspec": {
   "display_name": "Python 3",
   "language": "python",
   "name": "python3"
  },
  "language_info": {
   "codemirror_mode": {
    "name": "ipython",
    "version": 3
   },
   "file_extension": ".py",
   "mimetype": "text/x-python",
   "name": "python",
   "nbconvert_exporter": "python",
   "pygments_lexer": "ipython3",
   "version": "3.10.10"
  }
 },
 "nbformat": 4,
 "nbformat_minor": 2
}
